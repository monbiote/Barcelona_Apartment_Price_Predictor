{
 "cells": [
  {
   "cell_type": "code",
   "execution_count": 16,
   "metadata": {},
   "outputs": [
    {
     "data": {
      "text/plain": [
       "\"\\ndf_test = pd.read_csv('test.csv')\\ndf_test.head()\\n\""
      ]
     },
     "execution_count": 16,
     "metadata": {},
     "output_type": "execute_result"
    }
   ],
   "source": [
    "import pandas as pd\n",
    "import numpy as np\n",
    "import matplotlib.pyplot as plt\n",
    "\n",
    "# Read the data\n",
    "df_train = pd.read_csv('train.csv')\n",
    "df_train.head()\n",
    "\n",
    "'''\n",
    "df_test = pd.read_csv('test.csv')\n",
    "df_test.head()\n",
    "'''"
   ]
  },
  {
   "cell_type": "code",
   "execution_count": 19,
   "metadata": {},
   "outputs": [
    {
     "name": "stdout",
     "output_type": "stream",
     "text": [
      "                 id    num_rooms    num_baths  square_meters   year_built  \\\n",
      "count   8000.000000  8000.000000  7840.000000    7845.000000  7830.000000   \n",
      "mean    5012.506875     2.868500     1.988265     108.031995  1985.321073   \n",
      "std     2887.649416     5.300469     0.815943      38.671420    20.591437   \n",
      "min        2.000000     1.000000     1.000000    -100.000000  1950.000000   \n",
      "25%     2512.750000     1.000000     1.000000      78.000000  1968.000000   \n",
      "50%     5014.500000     2.000000     2.000000     110.000000  1985.000000   \n",
      "75%     7505.250000     4.000000     3.000000     140.000000  2003.000000   \n",
      "max    10000.000000    97.000000     3.000000     170.000000  2021.000000   \n",
      "\n",
      "        num_crimes  num_supermarkets        price  \n",
      "count  7840.000000       1411.000000  8000.000000  \n",
      "mean      2.803444          1.982991  1099.616250  \n",
      "std       3.447714          0.803182   271.686617  \n",
      "min       0.000000          1.000000   195.000000  \n",
      "25%       0.000000          1.000000   905.750000  \n",
      "50%       1.000000          2.000000  1104.000000  \n",
      "75%       6.000000          3.000000  1295.000000  \n",
      "max      10.000000          3.000000  2095.000000  \n"
     ]
    },
    {
     "ename": "NameError",
     "evalue": "name 'NUM_ROOMS' is not defined",
     "output_type": "error",
     "traceback": [
      "\u001b[0;31m---------------------------------------------------------------------------\u001b[0m",
      "\u001b[0;31mNameError\u001b[0m                                 Traceback (most recent call last)",
      "\u001b[1;32m/Users/guillemmirabentrubinat/Library/CloudStorage/OneDrive-Personal/BSE/CML Computational Machine Learning/Apartment Prices/Group_5_Sarria/Sarria.ipynb Cell 2\u001b[0m line \u001b[0;36m5\n\u001b[1;32m      <a href='vscode-notebook-cell:/Users/guillemmirabentrubinat/Library/CloudStorage/OneDrive-Personal/BSE/CML%20Computational%20Machine%20Learning/Apartment%20Prices/Group_5_Sarria/Sarria.ipynb#W1sZmlsZQ%3D%3D?line=0'>1</a>\u001b[0m \u001b[39m# Start the exploration\u001b[39;00m\n\u001b[1;32m      <a href='vscode-notebook-cell:/Users/guillemmirabentrubinat/Library/CloudStorage/OneDrive-Personal/BSE/CML%20Computational%20Machine%20Learning/Apartment%20Prices/Group_5_Sarria/Sarria.ipynb#W1sZmlsZQ%3D%3D?line=2'>3</a>\u001b[0m \u001b[39mprint\u001b[39m(df_train\u001b[39m.\u001b[39mdescribe())\n\u001b[0;32m----> <a href='vscode-notebook-cell:/Users/guillemmirabentrubinat/Library/CloudStorage/OneDrive-Personal/BSE/CML%20Computational%20Machine%20Learning/Apartment%20Prices/Group_5_Sarria/Sarria.ipynb#W1sZmlsZQ%3D%3D?line=4'>5</a>\u001b[0m NUM_ROOMS\n\u001b[1;32m      <a href='vscode-notebook-cell:/Users/guillemmirabentrubinat/Library/CloudStorage/OneDrive-Personal/BSE/CML%20Computational%20Machine%20Learning/Apartment%20Prices/Group_5_Sarria/Sarria.ipynb#W1sZmlsZQ%3D%3D?line=5'>6</a>\u001b[0m outliers \u001b[39m=\u001b[39m df_train[df_train[\u001b[39m'\u001b[39m\u001b[39mnum_rooms\u001b[39m\u001b[39m'\u001b[39m] \u001b[39m>\u001b[39m \u001b[39m6\u001b[39m]\n\u001b[1;32m      <a href='vscode-notebook-cell:/Users/guillemmirabentrubinat/Library/CloudStorage/OneDrive-Personal/BSE/CML%20Computational%20Machine%20Learning/Apartment%20Prices/Group_5_Sarria/Sarria.ipynb#W1sZmlsZQ%3D%3D?line=6'>7</a>\u001b[0m \u001b[39mprint\u001b[39m(\u001b[39mlen\u001b[39m(outliers)) \u001b[39m# too many outliers, propose mean imputation per neighborhood\u001b[39;00m\n",
      "\u001b[0;31mNameError\u001b[0m: name 'NUM_ROOMS' is not defined"
     ]
    }
   ],
   "source": [
    "# Start the exploration\n",
    "\n",
    "print(df_train.describe())\n",
    "\n",
    "# INVESTIGATE WHETHER THE MISSING VALUES ARE AT RANDOM OR NOT\n",
    "\n",
    "# NUM_ROOMS\n",
    "outliers = df_train[df_train['num_rooms'] > 6]\n",
    "print(len(outliers)) # too many outliers, propose mean imputation per neighborhood\n",
    "\n",
    "\n",
    "\n",
    "# filling outliers\n",
    "# distr_means = df_train[df_train['neighborhood']].mean()\n",
    "# distr_means.plot(kind='bar')"
   ]
  },
  {
   "cell_type": "markdown",
   "metadata": {},
   "source": [
    "FOR BOOLEANS, REMOVE REFERS TO PAIRWISE DELETION\n",
    "\n",
    "NUM_BATHROOMS treat identically to num_rooms\n",
    "\n",
    "SQUARE_METERS a lot of negatives\n",
    "treat it 3 different ways, 1) remove negatives (just leave values as positives) and then treat outliers with mean imputation, 2) replace with mean per neighborhood, 3) Logical approach\n",
    "\n",
    "ORIENTATION only relevant in relation to the neighborhood and above a certain floor if it's facing the sea (treat as secondary)\n",
    "\n",
    "FLOOR treat missing values (by neighborhood)\n",
    "\n",
    "DOOR the actual door not important but extracting the floor is important\n",
    "\n",
    "FURNISHED boolean value (secondary), MISSING VALUES REMOVE\n",
    "\n",
    "HAS POOL boolean value (secondary), MISSING VALUES REMOVE, analyze the effect by neighborhood\n",
    "\n",
    "NEIGHBORHOOD categorical variable, MISSING VALUES REMOVE, check (secondary check)\n",
    "\n",
    "NUM_CRIMES ANALYZE PER NEIGHBORHOOD, NEIGHBORHOODS TOO WIDE TREAT CAREFULLY\n",
    "\n",
    "HAS_AC boolean value, MISSING VALUES REMOVE\n",
    "\n",
    "ACCEPTS_PETS boolean value, MISSING VALUES REMOVE\n",
    "\n",
    "NUM_SUPERMARKETS too many missing, JUST REMOVE COLUMN\n",
    "\n",
    "num_rooms, outliers in > 6, propose removal."
   ]
  },
  {
   "cell_type": "code",
   "execution_count": null,
   "metadata": {},
   "outputs": [],
   "source": []
  },
  {
   "cell_type": "markdown",
   "metadata": {},
   "source": [
    "## MODEL RELATED NOTES\n",
    "\n",
    "Try lasso, ridge and linear model, BEGIN WITH LINEAR"
   ]
  }
 ],
 "metadata": {
  "kernelspec": {
   "display_name": "bse",
   "language": "python",
   "name": "python3"
  },
  "language_info": {
   "codemirror_mode": {
    "name": "ipython",
    "version": 3
   },
   "file_extension": ".py",
   "mimetype": "text/x-python",
   "name": "python",
   "nbconvert_exporter": "python",
   "pygments_lexer": "ipython3",
   "version": "3.12.0"
  }
 },
 "nbformat": 4,
 "nbformat_minor": 2
}
